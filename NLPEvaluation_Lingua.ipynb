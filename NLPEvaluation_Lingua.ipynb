{
 "cells": [
  {
   "cell_type": "markdown",
   "id": "8aaf4072",
   "metadata": {},
   "source": [
    "# Gerekli kütüphaneleri ekliyoruz"
   ]
  },
  {
   "cell_type": "code",
   "execution_count": 1,
   "id": "34e64853",
   "metadata": {},
   "outputs": [],
   "source": [
    "import gradio as gr\n",
    "import pandas as pd\n",
    "import numpy as np\n",
    "from simpletransformers.classification import ClassificationModel"
   ]
  },
  {
   "cell_type": "markdown",
   "id": "e6ec0282",
   "metadata": {},
   "source": [
    "# Gradio için kullanici adi ve sifre tanimliyoruz"
   ]
  },
  {
   "cell_type": "code",
   "execution_count": 2,
   "id": "e65ca83c",
   "metadata": {},
   "outputs": [],
   "source": [
    "def auth(username, password):\n",
    "    if username == \"Lingua\" and password == \"password\":\n",
    "        return True\n",
    "    else:\n",
    "        return False"
   ]
  },
  {
   "cell_type": "markdown",
   "id": "2c3dae64",
   "metadata": {},
   "source": [
    "# Predict fonksiyonunu ve bu fonksiyondan gelen sayıları yazıya çeviren fonksiyonu yazıyoruz"
   ]
  },
  {
   "cell_type": "code",
   "execution_count": 3,
   "id": "8eca09f7",
   "metadata": {},
   "outputs": [],
   "source": [
    "def predict(texts):\n",
    "    model_path = \"bert_model\"\n",
    "    model = ClassificationModel('bert', model_path, use_cuda=False)\n",
    "    predictions, _ = model.predict(texts)\n",
    "    return [sayidan_sonuca(prediction) for prediction in predictions]\n",
    "\n",
    "def sayidan_sonuca(sayi):\n",
    "    if sayi == 4:\n",
    "        return 'OTHER'\n",
    "    elif sayi == 1:\n",
    "        return 'RACIST'\n",
    "    elif sayi == 0:\n",
    "        return 'INSULT'\n",
    "    elif sayi == 3:\n",
    "        return 'PROFANITY'\n",
    "    elif sayi == 2:\n",
    "        return 'SEXIST'"
   ]
  },
  {
   "cell_type": "markdown",
   "id": "d28071e0",
   "metadata": {},
   "source": [
    "# Test datasını alıp, işledikten sonra yeni dosyayı oluşturuyoruz"
   ]
  },
  {
   "cell_type": "code",
   "execution_count": 4,
   "id": "0b409e1e",
   "metadata": {},
   "outputs": [],
   "source": [
    "def get_file(file):\n",
    "    output_file = \"output_Lingua.csv\"\n",
    "    df = pd.read_csv(file.name, sep=\"|\")\n",
    "    \n",
    "    texts = df[\"text\"].tolist()\n",
    "    targets = predict(texts)\n",
    "    \n",
    "    df[\"target\"] = targets\n",
    "    df[\"offensive\"] = df[\"target\"].apply(lambda x: 1 if x != \"OTHER\" else 0)\n",
    "    df = df.reindex(columns=['id', 'text', 'offensive', 'target'])\n",
    "    df.to_csv(output_file, index=False, sep=\"|\")\n",
    "    \n",
    "    return output_file"
   ]
  },
  {
   "cell_type": "markdown",
   "id": "85d5bfaa",
   "metadata": {},
   "source": [
    "# Gradio arayüzümüzü başlatıyoruz"
   ]
  },
  {
   "cell_type": "code",
   "execution_count": null,
   "id": "ab9ce940",
   "metadata": {},
   "outputs": [
    {
     "name": "stdout",
     "output_type": "stream",
     "text": [
      "Running on local URL:  http://127.0.0.1:7860\n",
      "IMPORTANT: You are using gradio version 4.27.0, however version 4.29.0 is available, please upgrade.\n",
      "--------\n",
      "\n",
      "Could not create share link. Please check your internet connection or our status page: https://status.gradio.app.\n"
     ]
    },
    {
     "data": {
      "text/html": [
       "<div><iframe src=\"http://127.0.0.1:7860/\" width=\"100%\" height=\"500\" allow=\"autoplay; camera; microphone; clipboard-read; clipboard-write;\" frameborder=\"0\" allowfullscreen></iframe></div>"
      ],
      "text/plain": [
       "<IPython.core.display.HTML object>"
      ]
     },
     "metadata": {},
     "output_type": "display_data"
    }
   ],
   "source": [
    "iface = gr.Interface(get_file, \"file\", \"file\")\n",
    "iface.launch(share=True, auth=auth, debug=True)"
   ]
  },
  {
   "cell_type": "code",
   "execution_count": null,
   "id": "43a53a76",
   "metadata": {},
   "outputs": [],
   "source": []
  }
 ],
 "metadata": {
  "kernelspec": {
   "display_name": "Python 3 (ipykernel)",
   "language": "python",
   "name": "python3"
  },
  "language_info": {
   "codemirror_mode": {
    "name": "ipython",
    "version": 3
   },
   "file_extension": ".py",
   "mimetype": "text/x-python",
   "name": "python",
   "nbconvert_exporter": "python",
   "pygments_lexer": "ipython3",
   "version": "3.11.5"
  }
 },
 "nbformat": 4,
 "nbformat_minor": 5
}
