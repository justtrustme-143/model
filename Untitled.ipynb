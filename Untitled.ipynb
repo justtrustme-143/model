{
 "cells": [
  {
   "cell_type": "code",
   "execution_count": null,
   "id": "c8faab34-4947-45dd-a47b-66fd1c0b9086",
   "metadata": {},
   "outputs": [],
   "source": [
    "from flask import Flask, request, render_template\n",
    "from simpletransformers.classification import ClassificationModel\n",
    "import nest_asyncio\n",
    "from threading import Thread\n",
    "\n",
    "nest_asyncio.apply()\n",
    "\n",
    "app = Flask(__name__)\n",
    "\n",
    "# Modeli sadece bir kez yükleyelim\n",
    "model_path = 'bert_model'\n",
    "model = ClassificationModel('bert', model_path, use_cuda=False)\n",
    "\n",
    "def sayidan_sonuca(sayi):\n",
    "    if sayi == 0:\n",
    "        return 'OTHER'\n",
    "    elif sayi == 1:\n",
    "        return 'SEXIST'\n",
    "    elif sayi == 2:\n",
    "        return 'RACIST'\n",
    "    elif sayi == 3:\n",
    "        return 'INSULT'\n",
    "    elif sayi == 4:\n",
    "        return 'PROFANITY'\n",
    "\n",
    "def predict(texts):\n",
    "    # Metni modelle sınıflandırma\n",
    "    predictions, _ = model.predict(texts)\n",
    "    return [sayidan_sonuca(prediction) for prediction in predictions]\n",
    "\n",
    "def check_for_insult(text):\n",
    "    predictions = predict([text])\n",
    "    predicted_label = predictions[0]\n",
    "    print(\"Tahmin edilen etiket:\", predicted_label)\n",
    "    # Tahmin edilen etiketi kontrol etme\n",
    "    if predicted_label in ['INSULT', 'RACIST', 'PROFANITY', 'SEXIST']:\n",
    "        return True\n",
    "    else:\n",
    "        return False\n",
    "\n",
    "@app.route('/')\n",
    "def index():\n",
    "    return render_template('index.html')\n",
    "\n",
    "@app.route('/predict', methods=['POST'])\n",
    "def predict_route():\n",
    "    text = request.form['text']\n",
    "    result = check_for_insult(text)\n",
    "    return render_template('index.html', prediction=result, text=text)\n",
    "\n",
    "def run_app():\n",
    "    app.run(port=5000)\n",
    "\n",
    "thread = Thread(target=run_app)\n",
    "thread.start()\n"
   ]
  }
 ],
 "metadata": {
  "kernelspec": {
   "display_name": "Python 3 (ipykernel)",
   "language": "python",
   "name": "python3"
  },
  "language_info": {
   "codemirror_mode": {
    "name": "ipython",
    "version": 3
   },
   "file_extension": ".py",
   "mimetype": "text/x-python",
   "name": "python",
   "nbconvert_exporter": "python",
   "pygments_lexer": "ipython3",
   "version": "3.11.5"
  }
 },
 "nbformat": 4,
 "nbformat_minor": 5
}
