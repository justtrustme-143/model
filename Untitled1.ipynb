{
 "cells": [
  {
   "cell_type": "code",
   "execution_count": 1,
   "id": "76432635-3dd5-4544-8d98-7ebbe9224f5c",
   "metadata": {},
   "outputs": [
    {
     "data": {
      "application/vnd.jupyter.widget-view+json": {
       "model_id": "cce9db8336dd445fab0b5cf2fb6798af",
       "version_major": 2,
       "version_minor": 0
      },
      "text/plain": [
       "0it [00:00, ?it/s]"
      ]
     },
     "metadata": {},
     "output_type": "display_data"
    },
    {
     "data": {
      "application/vnd.jupyter.widget-view+json": {
       "model_id": "33bef87fa81e4017bb56dd28a1a51421",
       "version_major": 2,
       "version_minor": 0
      },
      "text/plain": [
       "  0%|          | 0/1 [00:00<?, ?it/s]"
      ]
     },
     "metadata": {},
     "output_type": "display_data"
    },
    {
     "name": "stdout",
     "output_type": "stream",
     "text": [
      "['INSULT']\n"
     ]
    }
   ],
   "source": [
    "from simpletransformers.classification import ClassificationModel\n",
    "def predict(texts):\n",
    "    model_path = \"bert_model\"\n",
    "    model = ClassificationModel('bert', model_path, use_cuda=False)\n",
    "    predictions, _ = model.predict(texts)\n",
    "    return [sayidan_sonuca(prediction) for prediction in predictions]\n",
    "\n",
    "\n",
    "def sayidan_sonuca(sayi):\n",
    "    if sayi == 4:\n",
    "        return 'OTHER'\n",
    "    elif sayi == 1:\n",
    "        return 'RACIST'\n",
    "    elif sayi == 0:\n",
    "        return 'INSULT'\n",
    "    elif sayi == 3:\n",
    "        return 'PROFANITY'\n",
    "    elif sayi == 2:\n",
    "        return 'SEXIST'\n",
    "        \n",
    "print(predict([\"merhaba dünya\"]))   #Sınıflandıralacak Metin Buraya girilecek."
   ]
  },
  {
   "cell_type": "code",
   "execution_count": null,
   "id": "6b8e5a53-0404-4894-9b62-756648041bbd",
   "metadata": {},
   "outputs": [],
   "source": []
  }
 ],
 "metadata": {
  "kernelspec": {
   "display_name": "Python 3 (ipykernel)",
   "language": "python",
   "name": "python3"
  },
  "language_info": {
   "codemirror_mode": {
    "name": "ipython",
    "version": 3
   },
   "file_extension": ".py",
   "mimetype": "text/x-python",
   "name": "python",
   "nbconvert_exporter": "python",
   "pygments_lexer": "ipython3",
   "version": "3.11.7"
  }
 },
 "nbformat": 4,
 "nbformat_minor": 5
}
