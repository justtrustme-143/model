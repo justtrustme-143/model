{
 "cells": [
  {
   "cell_type": "markdown",
   "id": "5cdcb605",
   "metadata": {},
   "source": [
    "# Gerekli kütüphaneleri ekliyoruz"
   ]
  },
  {
   "cell_type": "code",
   "execution_count": 2,
   "id": "2e2d945e",
   "metadata": {},
   "outputs": [],
   "source": [
    "import numpy as np\n",
    "import pandas as pd\n",
    "from simpletransformers.classification import ClassificationModel\n",
    "from sklearn.model_selection import train_test_split\n",
    "from sklearn.metrics import f1_score, accuracy_score, matthews_corrcoef"
   ]
  },
  {
   "cell_type": "markdown",
   "id": "3881f6b9",
   "metadata": {},
   "source": [
    "# Eğiteceğimiz CSV dosyasını okuyoruz"
   ]
  },
  {
   "cell_type": "code",
   "execution_count": 3,
   "id": "774cb019",
   "metadata": {},
   "outputs": [],
   "source": [
    "df = pd.read_csv(\"data.csv\", sep=\"|\")\n",
    "#a = pd.read_csv(data_path, delimiter='|')\n",
    "# a.dropna(subset=['text'], inplace=True)\n",
    "\n",
    "# a[\"target\"].unique()\n",
    "\n",
    "# Farklı label'ları farklı sayılara çeviriyoruz\n",
    "\n",
    "#a['labels'] = pd.factorize(a.target)[0]\n",
    "df['labels'] = df['target'].map({\"OTHER\": 0, \"SEXIST\": 1, \"RACIST\": 2, \"INSULT\": 3, \"PROFANITY\": 4})\n"
   ]
  },
  {
   "cell_type": "markdown",
   "id": "93df206a",
   "metadata": {},
   "source": [
    "# Sadece \"text\" ve \"label\" sütunlarını alarak veri kümemizi sadeleştiriyoruz"
   ]
  },
  {
   "cell_type": "code",
   "execution_count": 4,
   "id": "0450bb84",
   "metadata": {},
   "outputs": [],
   "source": [
    "train, test = train_test_split(df, test_size=0.1, random_state=42)\n",
    "\n",
    "train = train[[\"text\", \"labels\"]]\n",
    "test = test[[\"text\", \"labels\"]]\n",
    "\n",
    "train[\"text\"] = train[\"text\"].apply(lambda r: str(r))\n",
    "train['labels'] = train['labels'].astype(int)"
   ]
  },
  {
   "cell_type": "markdown",
   "id": "ddeb7aa2",
   "metadata": {},
   "source": [
    "# Modeli tanımlıyoruz"
   ]
  },
  {
   "cell_type": "code",
   "execution_count": 5,
   "id": "e421085e",
   "metadata": {},
   "outputs": [
    {
     "name": "stderr",
     "output_type": "stream",
     "text": [
      "C:\\Users\\Gazi\\anaconda3\\Lib\\site-packages\\huggingface_hub\\file_download.py:1132: FutureWarning: `resume_download` is deprecated and will be removed in version 1.0.0. Downloads always resume when possible. If you want to force a new download, use `force_download=True`.\n",
      "  warnings.warn(\n"
     ]
    },
    {
     "data": {
      "application/vnd.jupyter.widget-view+json": {
       "model_id": "3d00e44e988046449f3b4873e96234c0",
       "version_major": 2,
       "version_minor": 0
      },
      "text/plain": [
       "config.json:   0%|          | 0.00/385 [00:00<?, ?B/s]"
      ]
     },
     "metadata": {},
     "output_type": "display_data"
    },
    {
     "name": "stderr",
     "output_type": "stream",
     "text": [
      "C:\\Users\\Gazi\\anaconda3\\Lib\\site-packages\\huggingface_hub\\file_download.py:157: UserWarning: `huggingface_hub` cache-system uses symlinks by default to efficiently store duplicated files but your machine does not support them in C:\\Users\\Gazi\\.cache\\huggingface\\hub\\models--dbmdz--bert-base-turkish-uncased. Caching files will still work but in a degraded version that might require more space on your disk. This warning can be disabled by setting the `HF_HUB_DISABLE_SYMLINKS_WARNING` environment variable. For more details, see https://huggingface.co/docs/huggingface_hub/how-to-cache#limitations.\n",
      "To support symlinks on Windows, you either need to activate Developer Mode or to run Python as an administrator. In order to see activate developer mode, see this article: https://docs.microsoft.com/en-us/windows/apps/get-started/enable-your-device-for-development\n",
      "  warnings.warn(message)\n"
     ]
    },
    {
     "data": {
      "application/vnd.jupyter.widget-view+json": {
       "model_id": "08e70b05aa594e268c72b2fe1d56ad43",
       "version_major": 2,
       "version_minor": 0
      },
      "text/plain": [
       "pytorch_model.bin:   0%|          | 0.00/445M [00:00<?, ?B/s]"
      ]
     },
     "metadata": {},
     "output_type": "display_data"
    },
    {
     "name": "stderr",
     "output_type": "stream",
     "text": [
      "Some weights of BertForSequenceClassification were not initialized from the model checkpoint at dbmdz/bert-base-turkish-uncased and are newly initialized: ['classifier.bias', 'classifier.weight']\n",
      "You should probably TRAIN this model on a down-stream task to be able to use it for predictions and inference.\n"
     ]
    },
    {
     "data": {
      "application/vnd.jupyter.widget-view+json": {
       "model_id": "4fe83ab8b7ec41848f6f2904327de41e",
       "version_major": 2,
       "version_minor": 0
      },
      "text/plain": [
       "tokenizer_config.json:   0%|          | 0.00/59.0 [00:00<?, ?B/s]"
      ]
     },
     "metadata": {},
     "output_type": "display_data"
    },
    {
     "data": {
      "application/vnd.jupyter.widget-view+json": {
       "model_id": "74dfef0af5bd4bed8519aa369168b7de",
       "version_major": 2,
       "version_minor": 0
      },
      "text/plain": [
       "vocab.txt:   0%|          | 0.00/263k [00:00<?, ?B/s]"
      ]
     },
     "metadata": {},
     "output_type": "display_data"
    }
   ],
   "source": [
    "model = ClassificationModel('bert', 'dbmdz/bert-base-turkish-uncased', num_labels=5, use_cuda=False,\n",
    "                            args={'reprocess_input_data': True, 'overwrite_output_dir': True, 'num_train_epochs': 3, \"train_batch_size\": 64 , \"fp16\":False,\"output_dir\":\"bert_model\"})"
   ]
  },
  {
   "cell_type": "code",
   "execution_count": 6,
   "id": "22ce14f3-4188-465f-b712-ea63e34e2c0b",
   "metadata": {},
   "outputs": [],
   "source": [
    "def compute_metrics(preds, labels):\n",
    "    assert len(preds) == len(labels)\n",
    "    f1 = f1_score(labels, preds, average='weighted')  # 'weighted' kullanıldı\n",
    "    acc = accuracy_score(labels, preds)\n",
    "    mcc = matthews_corrcoef(labels, preds)\n",
    "    return {\n",
    "        \"f1\": f1,\n",
    "        \"acc\": acc,\n",
    "        \"mcc\": mcc,\n",
    "    }"
   ]
  },
  {
   "cell_type": "markdown",
   "id": "a33aae1a",
   "metadata": {},
   "source": [
    "# Modeli Eğitiyoruz"
   ]
  },
  {
   "cell_type": "code",
   "execution_count": null,
   "id": "4c061496",
   "metadata": {},
   "outputs": [
    {
     "data": {
      "application/vnd.jupyter.widget-view+json": {
       "model_id": "01268bb5ceaa4a8e8a33e95c5fc79ba0",
       "version_major": 2,
       "version_minor": 0
      },
      "text/plain": [
       "  0%|          | 0/22 [00:00<?, ?it/s]"
      ]
     },
     "metadata": {},
     "output_type": "display_data"
    },
    {
     "data": {
      "application/vnd.jupyter.widget-view+json": {
       "model_id": "4f08914eb2294ea69a915f2b426100b7",
       "version_major": 2,
       "version_minor": 0
      },
      "text/plain": [
       "Epoch:   0%|          | 0/3 [00:00<?, ?it/s]"
      ]
     },
     "metadata": {},
     "output_type": "display_data"
    },
    {
     "data": {
      "application/vnd.jupyter.widget-view+json": {
       "model_id": "b65a614da6aa4eb983fe568baacdd85f",
       "version_major": 2,
       "version_minor": 0
      },
      "text/plain": [
       "Running Epoch 1 of 3:   0%|          | 0/176 [00:00<?, ?it/s]"
      ]
     },
     "metadata": {},
     "output_type": "display_data"
    }
   ],
   "source": [
    "model.train_model(train)\n",
    "\n",
    "# Modeli değerlendirme\n",
    "result, model_outputs, wrong_predictions = model.eval_model(test, compute_metrics=compute_metrics)\n",
    "\n",
    "# Tahminleri elde etme\n",
    "predictions = np.argmax(model_outputs, axis=1)\n",
    "actuals = test.labels.values\n",
    "\n",
    "print(\"Sonuçlar:\", result)\n",
    "print(\"Tahminler:\", predictions)\n",
    "print(\"Gerçekler:\", actuals)\n",
    "\n",
    "\n",
    "model_name = \"turkish_bert_model\"\n",
    "model_path = f\"{model_name}\"\n",
    "model.save_model(model_path)"
   ]
  },
  {
   "cell_type": "code",
   "execution_count": null,
   "id": "1a0c034c-28fb-4b23-ab56-4172d52d886d",
   "metadata": {},
   "outputs": [],
   "source": []
  }
 ],
 "metadata": {
  "kernelspec": {
   "display_name": "Python 3 (ipykernel)",
   "language": "python",
   "name": "python3"
  },
  "language_info": {
   "codemirror_mode": {
    "name": "ipython",
    "version": 3
   },
   "file_extension": ".py",
   "mimetype": "text/x-python",
   "name": "python",
   "nbconvert_exporter": "python",
   "pygments_lexer": "ipython3",
   "version": "3.11.5"
  }
 },
 "nbformat": 4,
 "nbformat_minor": 5
}
